{
 "cells": [
  {
   "metadata": {},
   "cell_type": "markdown",
   "source": "# 0. Imports",
   "id": "3b003efe0f06ea31"
  },
  {
   "metadata": {},
   "cell_type": "code",
   "outputs": [],
   "execution_count": null,
   "source": [
    "#!/usr/bin/env python\n",
    "import gc\n",
    "import os\n",
    "from datetime import datetime\n",
    "\n",
    "import pandas as pd\n",
    "import torch\n",
    "from sklearn.model_selection import train_test_split\n",
    "\n",
    "from src.model import RNNBinaryClassifier\n",
    "\n",
    "from src.data import preprocess_data, embed_data"
   ],
   "id": "984ff15c61f34576"
  },
  {
   "metadata": {},
   "cell_type": "markdown",
   "source": "## 1. Data Preprocessing",
   "id": "b8b436af83ffdd75"
  },
  {
   "metadata": {
    "collapsed": true
   },
   "cell_type": "code",
   "outputs": [],
   "execution_count": null,
   "source": [
    "df_train, df_eval = preprocess_data()\n",
    "df_train, df_eval = embed_data(df_train, df_eval)\n",
    "\n",
    "X = df_train.drop(columns=['EventType', 'MatchID', 'PeriodID', 'ID']).values\n",
    "y = df_train['EventType'].values\n",
    "\n",
    "X_id = df_eval['ID'].values\n",
    "X_eval = df_eval.drop(columns=['MatchID', 'PeriodID', 'ID']).values\n",
    "\n",
    "X_train, X_valid, y_train, y_valid = train_test_split(X, y, test_size=0.3)"
   ],
   "id": "f3846220fa650d9d"
  },
  {
   "metadata": {},
   "cell_type": "markdown",
   "source": "## 2. Model Training",
   "id": "8e91796bf980e2e7"
  },
  {
   "metadata": {},
   "cell_type": "code",
   "outputs": [],
   "execution_count": null,
   "source": [
    "# For Kaggle submission save\n",
    "def save_predictions_model(clf, params, accuracy):\n",
    "    clf.fit(X, y)\n",
    "    preds = clf.predict(X_eval)\n",
    "    pred_df = pd.DataFrame({'ID': X_id, 'EventType': preds})\n",
    "    # <clf name>/<params>/<filename>_predictions.csv\n",
    "    params = params.replace(' ', '')\n",
    "    today = datetime.today().strftime('%Y%m%d')\n",
    "    file_folder = f\"pred-{today}/{clf.__class__.__name__}-{accuracy}/{params}/\"\n",
    "    os.makedirs(file_folder, exist_ok=True)\n",
    "    file_path = os.path.join(file_folder, f\"{clf.__class__.__name__}_predictions.csv\")\n",
    "    pred_df.to_csv(file_path, index=False)\n",
    "    print(f\"Predictions saved to {file_path}\")\n",
    "    return file_folder\n"
   ],
   "id": "fcd25b9cec906df"
  },
  {
   "metadata": {},
   "cell_type": "markdown",
   "source": "## RNN",
   "id": "ce408b032fd8d934"
  },
  {
   "metadata": {},
   "cell_type": "code",
   "outputs": [],
   "execution_count": null,
   "source": [
    "gc.collect()\n",
    "torch.cuda.empty_cache()\n",
    "\n",
    "# Hyperparameters\n",
    "device = torch.device('cuda' if torch.cuda.is_available() else 'cpu')\n",
    "input_size = X.shape[1]\n",
    "hidden_size = 128\n",
    "num_layers = 4\n",
    "output_size = 1\n",
    "learning_rate = 1e-4\n",
    "batch_size = 64\n",
    "num_epochs = 1000\n",
    "stop_threshold = 1e-6\n",
    "\n",
    "# Convert data to Tensor\n",
    "X_train_tensor = torch.tensor(X_train, dtype=torch.float32, device=device)\n",
    "y_train_tensor = torch.tensor(y_train, dtype=torch.float32, device=device)\n",
    "\n",
    "X_valid_tensor = torch.tensor(X_valid, dtype=torch.float32, device=device)\n",
    "y_valid_tensor = torch.tensor(y_valid, dtype=torch.float32, device=device)\n",
    "\n",
    "# Initialize the model\n",
    "rnn = RNNBinaryClassifier(input_size, hidden_size, num_layers, output_size)\n",
    "\n",
    "# Train the model\n",
    "rnn.fit(X_train_tensor, y_train_tensor, num_epochs=num_epochs, batch_size=batch_size, stop_threshold=stop_threshold)"
   ],
   "id": "af6dfaef69586102"
  },
  {
   "metadata": {},
   "cell_type": "code",
   "outputs": [],
   "execution_count": null,
   "source": [
    "# Evaluate the model\n",
    "acc = rnn.evaluate(X_valid_tensor, y_valid_tensor)\n",
    "print(f\"Validation Accuracy: {acc}\")"
   ],
   "id": "e3e1b6c0afcd1d65"
  },
  {
   "metadata": {},
   "cell_type": "code",
   "outputs": [],
   "execution_count": null,
   "source": [
    "# Save the model\n",
    "checkpoint_filename = f\"rnn_checkpoint_{datetime.today().strftime('%Y%m%d')}.pt\"\n",
    "torch.save(rnn.state_dict(), checkpoint_filename)\n",
    "print(f\"Model saved to {checkpoint_filename}\")\n",
    "\n",
    "# Save predictions\n",
    "save_predictions_model(rnn,\n",
    "                       f\"hidden_size={hidden_size}, num_layers={num_layers}, lr={learning_rate}, epochs={num_epochs}\",\n",
    "                       accuracy=acc)"
   ],
   "id": "fd7439960f68ab7"
  }
 ],
 "metadata": {
  "kernelspec": {
   "display_name": "Python 3",
   "language": "python",
   "name": "python3"
  },
  "language_info": {
   "codemirror_mode": {
    "name": "ipython",
    "version": 2
   },
   "file_extension": ".py",
   "mimetype": "text/x-python",
   "name": "python",
   "nbconvert_exporter": "python",
   "pygments_lexer": "ipython2",
   "version": "2.7.6"
  }
 },
 "nbformat": 4,
 "nbformat_minor": 5
}
