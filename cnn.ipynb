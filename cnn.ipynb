{
 "cells": [
  {
   "metadata": {},
   "cell_type": "code",
   "outputs": [],
   "execution_count": null,
   "source": [
    "#!/usr/bin/env python\n",
    "import os\n",
    "from datetime import datetime\n",
    "\n",
    "import pandas as pd\n",
    "import seaborn as sns\n",
    "import torch\n",
    "from sklearn.metrics import accuracy_score, confusion_matrix\n",
    "from sklearn.model_selection import train_test_split\n",
    "from torch import nn, optim\n",
    "\n",
    "from src.data import preprocess_data, embed_data"
   ],
   "id": "d62700fb215e6d1e"
  },
  {
   "metadata": {},
   "cell_type": "markdown",
   "source": "## 1. Data Preprocessing",
   "id": "107154cdc3d81dfa"
  },
  {
   "metadata": {
    "collapsed": true
   },
   "cell_type": "code",
   "outputs": [],
   "execution_count": null,
   "source": [
    "df_train, df_eval = preprocess_data()\n",
    "df_train, df_eval = embed_data(df_train, df_eval)\n",
    "\n",
    "X = df_train.drop(columns=['EventType', 'MatchID', 'PeriodID', 'ID']).values\n",
    "y = df_train['EventType'].values\n",
    "\n",
    "X_id = df_eval['ID'].values\n",
    "X_eval = df_eval.drop(columns=['MatchID', 'PeriodID', 'ID']).values\n",
    "\n",
    "X_train, X_valid, y_train, y_valid = train_test_split(X, y, test_size=0.3)"
   ],
   "id": "95b321b4971620a9"
  },
  {
   "metadata": {},
   "cell_type": "markdown",
   "source": "## 2. Model Training",
   "id": "dc5386424a7e8743"
  },
  {
   "metadata": {},
   "cell_type": "code",
   "outputs": [],
   "execution_count": null,
   "source": [
    "# For Kaggle submission save\n",
    "def save_predictions_model(clf, params, accuracy):\n",
    "    clf.fit(X, y)\n",
    "    preds = clf.predict(X_eval)\n",
    "    pred_df = pd.DataFrame({'ID': X_id, 'EventType': preds})\n",
    "    # <clf name>/<params>/<filename>_predictions.csv\n",
    "    params = params.replace(' ', '')\n",
    "    today = datetime.today().strftime('%Y%m%d')\n",
    "    file_folder = f\"pred-{today}/{clf.__class__.__name__}-{accuracy}/{params}/\"\n",
    "    os.makedirs(file_folder, exist_ok=True)\n",
    "    file_path = os.path.join(file_folder, f\"{clf.__class__.__name__}_predictions.csv\")\n",
    "    pred_df.to_csv(file_path, index=False)\n",
    "    print(f\"Predictions saved to {file_path}\")\n",
    "    return file_folder\n",
    "\n",
    "\n",
    "def test_clf(clf, params):\n",
    "    y_pred = clf.predict(X_valid)\n",
    "    acc = accuracy_score(y_valid, y_pred)\n",
    "    print(f\"{clf.__class__.__name__} Test set: \", accuracy_score(y_valid, y_pred), f\"Params: {params}\")\n",
    "    # plot confusion matrix\n",
    "    cm = confusion_matrix(y_valid, y_pred)\n",
    "    sns.heatmap(cm, annot=True, fmt='d')\n",
    "    return acc"
   ],
   "id": "a4ba4b5ca3e7f58b"
  },
  {
   "metadata": {},
   "cell_type": "markdown",
   "source": "## CNN",
   "id": "c8288e5cc68bc413"
  },
  {
   "metadata": {},
   "cell_type": "code",
   "outputs": [],
   "execution_count": 33,
   "source": [
    "# CNN Model\n",
    "class CNNBinaryClassifier(nn.Module):\n",
    "    def __init__(self, criterion, optimizer, lr, tol=1e-4, max_epochs=1000):\n",
    "        super(CNNBinaryClassifier, self).__init__()\n",
    "        self.conv = nn.Sequential(\n",
    "            nn.Conv1d(1, 16, kernel_size=3, padding=1),  # Input: [batch_size, 1, 200]\n",
    "            nn.ReLU(),\n",
    "            nn.MaxPool1d(kernel_size=2),  # Output: [batch_size, 16, 100]\n",
    "            nn.Conv1d(16, 32, kernel_size=3, padding=1),\n",
    "            nn.ReLU(),\n",
    "            nn.MaxPool1d(kernel_size=2),  # Output: [batch_size, 32, 50]\n",
    "        )\n",
    "        self.fc = nn.Sequential(\n",
    "            nn.Flatten(),\n",
    "            nn.Linear(32 * 50, 1),\n",
    "            nn.Sigmoid()\n",
    "        )\n",
    "        self.criterion = criterion\n",
    "        self.tol = tol\n",
    "        self.max_epochs = max_epochs\n",
    "        self.optimizer = optimizer(self.parameters(), lr=lr)\n",
    "\n",
    "    def forward(self, x):\n",
    "        x = self.conv(x)\n",
    "        x = self.fc(x)\n",
    "        return x\n",
    "\n",
    "    def fit(self, X, y):\n",
    "        X_tensor = X if isinstance(X, torch.Tensor) else torch.tensor(X, dtype=torch.float32).unsqueeze(1)\n",
    "        y_tensor = y if isinstance(y, torch.Tensor) else torch.tensor(y, dtype=torch.float32)\n",
    "\n",
    "        epoch = 0\n",
    "        loss_prev_5 = [float('inf')] * 5  # Start with large values\n",
    "        from tqdm.notebook import tqdm\n",
    "        with tqdm(total=self.max_epochs, desc=f\"Training Epoch {epoch}, Loss: {loss_prev_5[-1]:.4f}\") as pbar:\n",
    "            while not all([abs(loss - loss_prev_5[0]) < self.tol for loss in loss_prev_5]) and epoch < self.max_epochs:\n",
    "                self.optimizer.zero_grad()\n",
    "                outputs = self(X_tensor)\n",
    "                loss = self.criterion(outputs.squeeze(), y_tensor)\n",
    "                loss.backward()\n",
    "                self.optimizer.step()\n",
    "\n",
    "                # Update loss history\n",
    "                loss_prev_5.pop(0)\n",
    "                loss_prev_5.append(loss.item())\n",
    "\n",
    "                # Update progress bar\n",
    "                epoch += 1\n",
    "                pbar.set_description(f\"Training Epoch {epoch}, Loss: {loss_prev_5[-1]:.4f}\")\n",
    "                pbar.update(1)\n",
    "\n",
    "            print(\"Max epochs reached; stopping training.\") if epoch >= self.max_epochs else print(\n",
    "                \"Convergence reached; stopping training.\")\n",
    "\n",
    "    @torch.no_grad()\n",
    "    def get_params(self):\n",
    "        return f\"crit={self.criterion.__class__.__name__},opt={self.optimizer.__class__.__name__}lr={self.optimizer.param_groups[0]['lr']}\"\n",
    "\n",
    "    @torch.no_grad()\n",
    "    def predict(self, X):\n",
    "        X_tensor = X if isinstance(X, torch.Tensor) else torch.tensor(X, dtype=torch.float32).unsqueeze(1)\n",
    "        pred = self(X_tensor).reshape(-1)\n",
    "        return (pred.squeeze() > 0.5).int().numpy()"
   ],
   "id": "f6894bc3aafef0ee"
  },
  {
   "metadata": {},
   "cell_type": "code",
   "outputs": [
    {
     "data": {
      "application/vnd.jupyter.widget-view+json": {
       "model_id": "cf6fa66a79fd4f87b69c8c8434136b1e",
       "version_major": 2,
       "version_minor": 0
      },
      "text/plain": [
       "Training Epoch 0, Loss: inf:   0%|          | 0/1000 [00:00<?, ?it/s]"
      ]
     },
     "metadata": {},
     "output_type": "display_data"
    },
    {
     "name": "stdout",
     "output_type": "stream",
     "text": [
      "Convergence reached; stopping training.\n",
      "CNNBinaryClassifier Test set:  0.7429906542056075 Params: crit=BCELoss,opt=Adamlr=0.001\n"
     ]
    },
    {
     "data": {
      "image/png": "[encoded data removed]",
      "text/plain": [
       "<Figure size 640x480 with 2 Axes>"
      ]
     },
     "metadata": {},
     "output_type": "display_data"
    }
   ],
   "execution_count": 29,
   "source": [
    "# Train on a subset of the data\n",
    "model_cnn_train = CNNBinaryClassifier(criterion=nn.BCELoss(), optimizer=optim.Adam, lr=1e-3, tol=1e-4, max_epochs=1000)\n",
    "model_cnn_train.fit(X_train, y_train)\n",
    "\n",
    "# Evaluate on the test set\n",
    "acc = test_clf(model_cnn_train, model_cnn_train.get_params())"
   ],
   "id": "1905cf94496488c6"
  },
  {
   "metadata": {},
   "cell_type": "code",
   "outputs": [
    {
     "data": {
      "application/vnd.jupyter.widget-view+json": {
       "model_id": "22e14e6f97014b29a3e10fcb8930e760",
       "version_major": 2,
       "version_minor": 0
      },
      "text/plain": [
       "Training Epoch 0, Loss: inf:   0%|          | 0/1000 [00:00<?, ?it/s]"
      ]
     },
     "metadata": {},
     "output_type": "display_data"
    },
    {
     "name": "stdout",
     "output_type": "stream",
     "text": [
      "Convergence reached; stopping training.\n",
      "Predictions saved to pred/CNNBinaryClassifier/crit=BCELoss,opt=Adamlr=0.001/CNNBinaryClassifier_predictions.csv\n"
     ]
    }
   ],
   "execution_count": 30,
   "source": [
    "# Save predictions\n",
    "save_predictions_model(model_cnn_train, model_cnn_train.get_params(), acc)"
   ],
   "id": "4ac144cc4d337b11"
  }
 ],
 "metadata": {
  "kernelspec": {
   "display_name": "Python 3",
   "language": "python",
   "name": "python3"
  },
  "language_info": {
   "codemirror_mode": {
    "name": "ipython",
    "version": 2
   },
   "file_extension": ".py",
   "mimetype": "text/x-python",
   "name": "python",
   "nbconvert_exporter": "python",
   "pygments_lexer": "ipython2",
   "version": "2.7.6"
  }
 },
 "nbformat": 4,
 "nbformat_minor": 5
}
